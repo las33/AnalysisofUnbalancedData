{
 "cells": [
  {
   "cell_type": "code",
   "execution_count": 1,
   "metadata": {},
   "outputs": [],
   "source": [
    "import pandas  as pd\n",
    "import math\n",
    "import numpy as np\n",
    "import json\n",
    "import statistics\n",
    "from scipy import stats\n",
    "import matplotlib as matplotlib\n",
    "from matplotlib import pyplot as plt\n",
    "import seaborn as sns"
   ]
  },
  {
   "cell_type": "code",
   "execution_count": 2,
   "metadata": {},
   "outputs": [],
   "source": [
    "with open('models_acc_ClusterCentroids.txt') as f:\n",
    "    cluster_centroids = json.load(f)\n",
    "\n",
    "with open('models_acc_RandomUnderSampler.txt') as f:\n",
    "    random_undersampler = json.load(f)\n",
    "    \n",
    "with open('models_acc_SMOTE.txt') as f:\n",
    "    smote = json.load(f)"
   ]
  },
  {
   "cell_type": "code",
   "execution_count": 3,
   "metadata": {},
   "outputs": [],
   "source": [
    "df_randu=pd.DataFrame.from_dict(random_undersampler,orient='index').transpose()"
   ]
  },
  {
   "cell_type": "code",
   "execution_count": 4,
   "metadata": {},
   "outputs": [
    {
     "data": {
      "text/html": [
       "<div>\n",
       "<style scoped>\n",
       "    .dataframe tbody tr th:only-of-type {\n",
       "        vertical-align: middle;\n",
       "    }\n",
       "\n",
       "    .dataframe tbody tr th {\n",
       "        vertical-align: top;\n",
       "    }\n",
       "\n",
       "    .dataframe thead th {\n",
       "        text-align: right;\n",
       "    }\n",
       "</style>\n",
       "<table border=\"1\" class=\"dataframe\">\n",
       "  <thead>\n",
       "    <tr style=\"text-align: right;\">\n",
       "      <th></th>\n",
       "      <th>KNeighborsClassifier</th>\n",
       "      <th>DecisionTreeClassifier</th>\n",
       "      <th>MLPClassifier</th>\n",
       "      <th>RandomForestClassifier</th>\n",
       "      <th>LinearSVC</th>\n",
       "    </tr>\n",
       "  </thead>\n",
       "  <tbody>\n",
       "    <tr>\n",
       "      <th>0</th>\n",
       "      <td>0.934010</td>\n",
       "      <td>0.913706</td>\n",
       "      <td>0.949239</td>\n",
       "      <td>0.918782</td>\n",
       "      <td>0.939086</td>\n",
       "    </tr>\n",
       "    <tr>\n",
       "      <th>1</th>\n",
       "      <td>0.939086</td>\n",
       "      <td>0.923858</td>\n",
       "      <td>0.964467</td>\n",
       "      <td>0.939086</td>\n",
       "      <td>0.959391</td>\n",
       "    </tr>\n",
       "    <tr>\n",
       "      <th>2</th>\n",
       "      <td>0.934010</td>\n",
       "      <td>0.903553</td>\n",
       "      <td>0.949239</td>\n",
       "      <td>0.928934</td>\n",
       "      <td>0.964467</td>\n",
       "    </tr>\n",
       "    <tr>\n",
       "      <th>3</th>\n",
       "      <td>0.934010</td>\n",
       "      <td>0.908629</td>\n",
       "      <td>0.949239</td>\n",
       "      <td>0.939086</td>\n",
       "      <td>0.944162</td>\n",
       "    </tr>\n",
       "    <tr>\n",
       "      <th>4</th>\n",
       "      <td>0.913265</td>\n",
       "      <td>0.903061</td>\n",
       "      <td>0.923469</td>\n",
       "      <td>0.897959</td>\n",
       "      <td>0.928571</td>\n",
       "    </tr>\n",
       "  </tbody>\n",
       "</table>\n",
       "</div>"
      ],
      "text/plain": [
       "   KNeighborsClassifier  DecisionTreeClassifier  MLPClassifier  \\\n",
       "0              0.934010                0.913706       0.949239   \n",
       "1              0.939086                0.923858       0.964467   \n",
       "2              0.934010                0.903553       0.949239   \n",
       "3              0.934010                0.908629       0.949239   \n",
       "4              0.913265                0.903061       0.923469   \n",
       "\n",
       "   RandomForestClassifier  LinearSVC  \n",
       "0                0.918782   0.939086  \n",
       "1                0.939086   0.959391  \n",
       "2                0.928934   0.964467  \n",
       "3                0.939086   0.944162  \n",
       "4                0.897959   0.928571  "
      ]
     },
     "execution_count": 4,
     "metadata": {},
     "output_type": "execute_result"
    }
   ],
   "source": [
    "df_randu.head()"
   ]
  },
  {
   "cell_type": "markdown",
   "metadata": {},
   "source": [
    "## Histogramas"
   ]
  },
  {
   "cell_type": "code",
   "execution_count": 15,
   "metadata": {},
   "outputs": [
    {
     "data": {
      "image/png": "[encoded data removed]",
      "text/plain": [
       "<Figure size 432x288 with 1 Axes>"
      ]
     },
     "metadata": {
      "needs_background": "light"
     },
     "output_type": "display_data"
    },
    {
     "data": {
      "image/png": "[encoded data removed]",
      "text/plain": [
       "<Figure size 432x288 with 1 Axes>"
      ]
     },
     "metadata": {
      "needs_background": "light"
     },
     "output_type": "display_data"
    },
    {
     "data": {
      "image/png": "[encoded data removed]",
      "text/plain": [
       "<Figure size 432x288 with 1 Axes>"
      ]
     },
     "metadata": {
      "needs_background": "light"
     },
     "output_type": "display_data"
    },
    {
     "data": {
      "image/png": "[encoded data removed]",
      "text/plain": [
       "<Figure size 432x288 with 1 Axes>"
      ]
     },
     "metadata": {
      "needs_background": "light"
     },
     "output_type": "display_data"
    },
    {
     "data": {
      "image/png": "[encoded data removed]",
      "text/plain": [
       "<Figure size 432x288 with 1 Axes>"
      ]
     },
     "metadata": {
      "needs_background": "light"
     },
     "output_type": "display_data"
    }
   ],
   "source": [
    "for col in list(df_randu):\n",
    "    sns.distplot(df_randu[col], hist=True, kde=False, color = 'darkblue', \n",
    "                 hist_kws={'edgecolor':'black'},\n",
    "                 kde_kws={'linewidth': 2})\n",
    "    plt.show()"
   ]
  },
  {
   "cell_type": "code",
   "execution_count": 30,
   "metadata": {},
   "outputs": [
    {
     "data": {
      "text/plain": [
       "<matplotlib.axes._subplots.AxesSubplot at 0x9f1eac0>"
      ]
     },
     "execution_count": 30,
     "metadata": {},
     "output_type": "execute_result"
    },
    {
     "data": {
      "image/png": "[encoded data removed]",
      "text/plain": [
       "<Figure size 432x288 with 1 Axes>"
      ]
     },
     "metadata": {
      "needs_background": "light"
     },
     "output_type": "display_data"
    }
   ],
   "source": [
    " sns.distplot(df_randu.KNeighborsClassifier)"
   ]
  },
  {
   "cell_type": "markdown",
   "metadata": {},
   "source": [
    "## KS-TEST"
   ]
  },
  {
   "cell_type": "code",
   "execution_count": 7,
   "metadata": {},
   "outputs": [
    {
     "name": "stdout",
     "output_type": "stream",
     "text": [
      "KNeighborsClassifier\n",
      "ShapiroResult(statistic=0.9572940468788147, pvalue=0.06848066300153732)\n",
      "-------\n",
      "DecisionTreeClassifier\n",
      "ShapiroResult(statistic=0.9677106738090515, pvalue=0.1864873766899109)\n",
      "-------\n",
      "MLPClassifier\n",
      "ShapiroResult(statistic=0.9589491486549377, pvalue=0.08032240718603134)\n",
      "-------\n",
      "RandomForestClassifier\n",
      "ShapiroResult(statistic=0.9741191267967224, pvalue=0.337568461894989)\n",
      "-------\n",
      "LinearSVC\n",
      "ShapiroResult(statistic=0.9634642004966736, pvalue=0.12416540086269379)\n",
      "-------\n"
     ]
    }
   ],
   "source": [
    "for col in list(df_randu):\n",
    "    print(col)\n",
    "    print(stats.shapiro(df_randu[col]))\n",
    "    print('-------')"
   ]
  },
  {
   "cell_type": "markdown",
   "metadata": {},
   "source": [
    "## Wilcoxon Signed-Rank Test "
   ]
  },
  {
   "cell_type": "code",
   "execution_count": 39,
   "metadata": {},
   "outputs": [
    {
     "name": "stdout",
     "output_type": "stream",
     "text": [
      "('KNeighborsClassifier', 'DecisionTreeClassifier')\n",
      "WilcoxonResult(statistic=22.5, pvalue=1.5027917486775284e-08)\n",
      "-------\n",
      "('KNeighborsClassifier', 'MLPClassifier')\n",
      "WilcoxonResult(statistic=205.0, pvalue=0.000708152895471336)\n",
      "-------\n",
      "('KNeighborsClassifier', 'RandomForestClassifier')\n",
      "WilcoxonResult(statistic=130.0, pvalue=5.627115409929214e-05)\n",
      "-------\n",
      "('KNeighborsClassifier', 'LinearSVC')\n",
      "WilcoxonResult(statistic=181.0, pvalue=0.000244603251869731)\n",
      "-------\n",
      "('DecisionTreeClassifier', 'MLPClassifier')\n",
      "WilcoxonResult(statistic=0.0, pvalue=1.6091297629026016e-09)\n",
      "-------\n",
      "('DecisionTreeClassifier', 'RandomForestClassifier')\n",
      "WilcoxonResult(statistic=151.5, pvalue=4.433253313598636e-06)\n",
      "-------\n",
      "('DecisionTreeClassifier', 'LinearSVC')\n",
      "WilcoxonResult(statistic=0.0, pvalue=7.492246836952014e-10)\n",
      "-------\n",
      "('MLPClassifier', 'RandomForestClassifier')\n",
      "WilcoxonResult(statistic=25.5, pvalue=2.7512173849414368e-08)\n",
      "-------\n",
      "('MLPClassifier', 'LinearSVC')\n",
      "WilcoxonResult(statistic=396.5, pvalue=0.657511119518401)\n",
      "-------\n",
      "('RandomForestClassifier', 'LinearSVC')\n",
      "WilcoxonResult(statistic=33.0, pvalue=4.453121164799156e-08)\n",
      "-------\n"
     ]
    }
   ],
   "source": [
    "import itertools\n",
    "\n",
    "combinations = list(itertools.combinations(list(df_randu), 2))\n",
    "\n",
    "for pair in combinations:\n",
    "    print(pair)\n",
    "    print(stats.wilcoxon(df_randu[pair[0]], df_randu[pair[1]]))\n",
    "    print('-------')"
   ]
  },
  {
   "cell_type": "code",
   "execution_count": null,
   "metadata": {},
   "outputs": [],
   "source": []
  }
 ],
 "metadata": {
  "kernelspec": {
   "display_name": "Python 3",
   "language": "python",
   "name": "python3"
  },
  "language_info": {
   "codemirror_mode": {
    "name": "ipython",
    "version": 3
   },
   "file_extension": ".py",
   "mimetype": "text/x-python",
   "name": "python",
   "nbconvert_exporter": "python",
   "pygments_lexer": "ipython3",
   "version": "3.8.3"
  }
 },
 "nbformat": 4,
 "nbformat_minor": 4
}
